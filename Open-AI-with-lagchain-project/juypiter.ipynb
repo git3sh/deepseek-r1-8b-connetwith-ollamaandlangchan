{
 "cells": [
  {
   "cell_type": "code",
   "execution_count": 9,
   "id": "c878144e-3416-4e96-848b-61f9cf7bbc6f",
   "metadata": {},
   "outputs": [
    {
     "name": "stdout",
     "output_type": "stream",
     "text": [
      "Python 3.10.11\n"
     ]
    }
   ],
   "source": [
    "!python --version"
   ]
  },
  {
   "cell_type": "code",
   "execution_count": 10,
   "id": "cf1af388-21cd-4b7d-998d-87c254d03ef9",
   "metadata": {},
   "outputs": [
    {
     "name": "stdout",
     "output_type": "stream",
     "text": [
      "0.3.27\n"
     ]
    }
   ],
   "source": [
    "import langchain\n",
    "print(langchain.__version__)\n"
   ]
  },
  {
   "cell_type": "code",
   "execution_count": 11,
   "id": "f062f47f-b3c3-4a9b-90ff-4214546e1535",
   "metadata": {},
   "outputs": [],
   "source": [
    "from langchain.agents import initialize_agent, Tool\n",
    "from langchain.llms import OpenAI\n",
    "\n",
    "from dotenv import load_dotenv\n",
    "import os\n",
    "\n",
    "load_dotenv()\n",
    "openai_api_key = os.getenv(\"OPENAI_API_KEY\")"
   ]
  },
  {
   "cell_type": "code",
   "execution_count": 16,
   "id": "0cd2c1da",
   "metadata": {},
   "outputs": [
    {
     "name": "stdout",
     "output_type": "stream",
     "text": [
      "Requirement already satisfied: ddgs in c:\\users\\gites\\videos\\openai\\venv\\lib\\site-packages (9.4.3)\n",
      "Requirement already satisfied: click>=8.1.8 in c:\\users\\gites\\videos\\openai\\venv\\lib\\site-packages (from ddgs) (8.2.1)\n",
      "Requirement already satisfied: primp>=0.15.0 in c:\\users\\gites\\videos\\openai\\venv\\lib\\site-packages (from ddgs) (0.15.0)\n",
      "Requirement already satisfied: lxml>=5.3.0 in c:\\users\\gites\\videos\\openai\\venv\\lib\\site-packages (from ddgs) (6.0.0)\n",
      "Requirement already satisfied: colorama in c:\\users\\gites\\videos\\openai\\venv\\lib\\site-packages (from click>=8.1.8->ddgs) (0.4.6)\n"
     ]
    }
   ],
   "source": [
    "#!pip install -U duckduckgo-search\n",
    "#!pip install ddgs\n"
   ]
  },
  {
   "cell_type": "code",
   "execution_count": 18,
   "id": "1a450795",
   "metadata": {},
   "outputs": [
    {
     "name": "stderr",
     "output_type": "stream",
     "text": [
      "C:\\Users\\gites\\Videos\\OpenAI\\venv\\lib\\site-packages\\langchain_community\\utilities\\duckduckgo_search.py:63: RuntimeWarning: This package (`duckduckgo_search`) has been renamed to `ddgs`! Use `pip install ddgs` instead.\n",
      "  with DDGS() as ddgs:\n"
     ]
    },
    {
     "name": "stdout",
     "output_type": "stream",
     "text": [
      "TOP definition: 1. the highest place or part: 2. the flat upper surface of something: 3. in baseball, the first…. Learn more. TOP翻译：顶部, 顶；顶端；顶部, 上层表面, 衣服, 上装，上衣, 盖, （容器或笔的）盖子, 最重要, 玩具, 陀螺（同 spinning top ... 再来具体谈谈什么是拓扑图吧！ 拓扑图也叫作拓扑结构图，是指由计算机、打印机、网络设备以及其他设备构成的网络结构图 其实就是将实物的连接方式用图形表现出来哦~ 拓扑图可以通过图形传递量 … ON TOP OF SOMETHING definition: 1. in addition to something, especially something unpleasant: 2. in control of something or able…. Learn more. The Top Eleven Forum is the ultimate place to discuss football management simulation game strategies, to meet fellow Managers and to share your opinion!\n"
     ]
    }
   ],
   "source": [
    "from langchain_community.tools.ddg_search.tool import DuckDuckGoSearchRun\n",
    "from langchain.agents import Tool, initialize_agent\n",
    "from langchain.llms import OpenAI\n",
    "\n",
    "# Web Search Tool using DuckDuckGo\n",
    "search_tool = Tool(\n",
    "    name=\"DuckDuckGo Search\",\n",
    "    func=DuckDuckGoSearchRun().run,\n",
    "    description=\"Use this tool to perform web searches using DuckDuckGo.\"\n",
    ")\n",
    "\n",
    "llm = OpenAI(temperature=0.5)\n",
    "\n",
    "tools = [search_tool]\n",
    "\n",
    "agent = initialize_agent(\n",
    "    tools=tools,\n",
    "    llm=llm,\n",
    "    agent=\"zero-shot-react-description\",\n",
    "    verbose=True\n",
    ")\n",
    "\n",
    "# Directly use the DuckDuckGoSearchRun tool to avoid OpenAI API quota issues\n",
    "response = search_tool.run(\"What are the top trending movies this week?\")\n",
    "\n",
    "print(response)"
   ]
  },
  {
   "cell_type": "code",
   "execution_count": null,
   "id": "f9cd4d18",
   "metadata": {},
   "outputs": [],
   "source": []
  }
 ],
 "metadata": {
  "kernelspec": {
   "display_name": "Python 3 (ipykernel)",
   "language": "python",
   "name": "python3"
  },
  "language_info": {
   "codemirror_mode": {
    "name": "ipython",
    "version": 3
   },
   "file_extension": ".py",
   "mimetype": "text/x-python",
   "name": "python",
   "nbconvert_exporter": "python",
   "pygments_lexer": "ipython3",
   "version": "3.10.11"
  }
 },
 "nbformat": 4,
 "nbformat_minor": 5
}
